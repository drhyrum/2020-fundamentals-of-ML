{
 "metadata": {
  "language_info": {
   "codemirror_mode": {
    "name": "ipython",
    "version": 3
   },
   "file_extension": ".py",
   "mimetype": "text/x-python",
   "name": "python",
   "nbconvert_exporter": "python",
   "pygments_lexer": "ipython3",
   "version": "3.7.6-final"
  },
  "orig_nbformat": 2,
  "kernelspec": {
   "name": "Python 3.7.6 64-bit ('base': conda)",
   "display_name": "Python 3.7.6 64-bit ('base': conda)",
   "metadata": {
    "interpreter": {
     "hash": "9e845149adc3efd378460f4907fc87a43d111946409747f2a1708cb5f8b0cf2a"
    }
   }
  }
 },
 "nbformat": 4,
 "nbformat_minor": 2,
 "cells": [
  {
   "cell_type": "code",
   "execution_count": 1,
   "metadata": {},
   "outputs": [],
   "source": [
    "import pandas as pd\n",
    "import numpy as np\n",
    "from sklearn import preprocessing\n",
    "from sklearn.model_selection import train_test_split\n",
    "from sklearn.ensemble import RandomForestClassifier\n",
    "from sklearn.metrics import accuracy_score\n",
    "import pickle"
   ]
  },
  {
   "cell_type": "code",
   "execution_count": 2,
   "metadata": {},
   "outputs": [],
   "source": [
    "# ####### PART 1: READ IN AND PREPARE DATA\n",
    "\n",
    "# read file from disk\n",
    "df = pd.read_csv('../../data/icecream/survey.csv', keep_default_na=False)\n",
    "\n",
    "# fix a typo (MY FAULT!)\n",
    "keys = list(df.keys())\n",
    "df.loc[0, keys[-2]] = 'waffle cone/bowl'\n",
    "\n",
    "# turn data into numbers\n",
    "ismale = (np.atleast_2d(df[keys[2]]).T == 'Male').astype(np.float32)\n",
    "age = np.atleast_2d(df[keys[3]]).T.astype(np.float32)\n",
    "\n",
    "snack_ohe = preprocessing.OneHotEncoder(sparse=False)\n",
    "snack = snack_ohe.fit_transform(np.atleast_2d(df[keys[4]]).T)\n",
    "\n",
    "icecream_ohe = preprocessing.OneHotEncoder(sparse=False)\n",
    "icecream = icecream_ohe.fit_transform(np.atleast_2d(df[keys[5]]).T)\n",
    "\n",
    "cone_ohe = preprocessing.OneHotEncoder(sparse=False)\n",
    "cone = cone_ohe.fit_transform(np.atleast_2d(df[keys[7]]).T)\n",
    "\n",
    "# design decision: choosing to make \"scoops\" a categorical variable instead of a raw number\n",
    "#    ...because WE'LL NEVER GIVE YOU 4 SCOOPS!\n",
    "scoops_ohe = preprocessing.OneHotEncoder(sparse=False)\n",
    "scoops = scoops_ohe.fit_transform(np.atleast_2d(df[keys[8]]).T)\n",
    "\n",
    "# toppings is a comma-separated string \"caramel, hot fudge, nuts, whipped cream\"\n",
    "# first, turn it into a list of strings: \"caramel\", \"hot fudge\", \"nuts\", \"whipped cream\"\n",
    "toppings_list = [t.split(\", \") if t else [] for t in df[keys[6]]]\n",
    "toppings_mlb = preprocessing.MultiLabelBinarizer()  # toppings_mlb.classes_\n",
    "toppings = toppings_mlb.fit_transform(toppings_list).astype(np.float32)\n",
    "\n",
    "# set up inputs X and outputs (targets) Y\n",
    "Y = toppings\n",
    "topping_names = toppings_mlb.classes_\n",
    "\n",
    "X = np.concatenate([ismale, age, snack, icecream, cone, scoops], axis=1)\n",
    "feature_names = ['gender'] + ['age']\n",
    "feature_names += ['snack-' + s for s in snack_ohe.categories_[0]]\n",
    "feature_names += ['icecream-' + s for s in icecream_ohe.categories_[0]]\n",
    "feature_names += ['cone-' + s for s in cone_ohe.categories_[0]]\n",
    "feature_names += ['scoops-' + str(s) for s in scoops_ohe.categories_[0]]"
   ]
  },
  {
   "cell_type": "code",
   "execution_count": 3,
   "metadata": {},
   "outputs": [
    {
     "output_type": "execute_result",
     "data": {
      "text/plain": [
       "RandomForestClassifier(bootstrap=True, ccp_alpha=0.0, class_weight=None,\n",
       "                       criterion='gini', max_depth=None, max_features='auto',\n",
       "                       max_leaf_nodes=None, max_samples=None,\n",
       "                       min_impurity_decrease=0.0, min_impurity_split=None,\n",
       "                       min_samples_leaf=1, min_samples_split=2,\n",
       "                       min_weight_fraction_leaf=0.0, n_estimators=100,\n",
       "                       n_jobs=None, oob_score=False, random_state=None,\n",
       "                       verbose=0, warm_start=False)"
      ]
     },
     "metadata": {},
     "execution_count": 3
    }
   ],
   "source": [
    "# ####### PART 2: TRAIN A MODEL\n",
    "\n",
    "# holdout some data to validate that it works (IMPORTANT!)\n",
    "X_train, X_val, Y_train, Y_val = train_test_split(X, Y, test_size=40)\n",
    "\n",
    "# train a model on the data\n",
    "model = RandomForestClassifier()\n",
    "model.fit(X_train, Y_train)\n"
   ]
  },
  {
   "cell_type": "code",
   "execution_count": 4,
   "metadata": {},
   "outputs": [
    {
     "output_type": "stream",
     "name": "stdout",
     "text": [
      "\nAccuracy for each topping:\n1. M&Ms (or other chocolate candies) accuracy = 70.0%\n2. caramel accuracy = 50.0%\n3. cherry on top accuracy = 67.5%\n4. gummies accuracy = 90.0%\n5. hot fudge accuracy = 57.49999999999999%\n6. nuts accuracy = 62.5%\n7. sprinkles accuracy = 92.5%\n8. whipped cream accuracy = 50.0%\n\nImportant features:\n1. age (0.39729905584849035)\n2. gender (0.05750158782067879)\n3. scoops-2 (0.045045233988362396)\n4. cone-waffle cone/bowl (0.03948851137227618)\n5. scoops-3 (0.03812622531994428)\n6. snack-sweet (0.037678790291128236)\n7. scoops-1 (0.03683119401673379)\n8. icecream-chocolate (0.034389430081798726)\n9. cone-just a cup, please. No cone/bowl. (0.034332847884804146)\n10. icecream-vanilla (0.032105726786923076)\n11. snack-savory (0.02995400174449176)\n12. icecream-cookies and cream (0.029893675413625878)\n13. icecream-cookie dough (0.02987815586361364)\n14. snack-salty (0.028534497597855132)\n15. icecream-salted caramel or butterscotch (0.027159165548358573)\n16. cone-sugar cone/bowl (0.023187383303500123)\n17. icecream-strawberry (0.022262090544831508)\n18. icecream-mint (0.020741322574357682)\n19. icecream-sherbet (any flavor) (0.01857507204541866)\n20. cone-cake cone/bowl (0.017016031952807195)\n"
     ]
    }
   ],
   "source": [
    "# ####### PART 3: TEST MODEL'S PERFORMANCE\n",
    "\n",
    "# validate that it works on the holdout set.  Does it overfit to training?\n",
    "Y_pred_proba = np.array(model.predict_proba(X_val))[..., 1].squeeze().T\n",
    "Y_pred = (Y_pred_proba > 0.5).astype(float)\n",
    "\n",
    "# how did we do on the holdout set?\n",
    "print(\"\\nAccuracy for each topping:\")\n",
    "for i, n in enumerate(topping_names):\n",
    "    score = accuracy_score(Y_val[:, i], Y_pred[:, i]) * 100\n",
    "    print(f\"{i+1}. {n} accuracy = {score}%\")\n",
    "\n",
    "# which features were most important?\n",
    "print(\"\\nImportant features:\")\n",
    "for i, (score, name) in enumerate(sorted(list(zip(model.feature_importances_, feature_names)), reverse=True)):\n",
    "    print(f\"{i+1}. {name} ({score})\")\n"
   ]
  },
  {
   "cell_type": "code",
   "execution_count": 5,
   "metadata": {},
   "outputs": [],
   "source": [
    "# ####### PART 4: SAVE MODEL TO DISK\n",
    "\n",
    "# retrain model with all the data\n",
    "model.fit(X, Y)\n",
    "\n",
    "# let's save everything we need\n",
    "toppings_predictor = {\n",
    "    'model': model,\n",
    "    'scoops_ohe': scoops_ohe,\n",
    "    'toppings_mlb': toppings_mlb,\n",
    "    'cone_ohe': cone_ohe,\n",
    "    'icecream_ohe': icecream_ohe,\n",
    "    'snack_ohe': snack_ohe,\n",
    "}\n",
    "\n",
    "pickle.dump(toppings_predictor, open('toppings_predictor.pkl', 'wb'))\n"
   ]
  }
 ]
}