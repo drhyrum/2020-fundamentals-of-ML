{
 "metadata": {
  "language_info": {
   "codemirror_mode": {
    "name": "ipython",
    "version": 3
   },
   "file_extension": ".py",
   "mimetype": "text/x-python",
   "name": "python",
   "nbconvert_exporter": "python",
   "pygments_lexer": "ipython3",
   "version": "3.7.6-final"
  },
  "orig_nbformat": 2,
  "kernelspec": {
   "name": "Python 3.7.6 64-bit ('base': conda)",
   "display_name": "Python 3.7.6 64-bit ('base': conda)",
   "metadata": {
    "interpreter": {
     "hash": "9e845149adc3efd378460f4907fc87a43d111946409747f2a1708cb5f8b0cf2a"
    }
   }
  }
 },
 "nbformat": 4,
 "nbformat_minor": 2,
 "cells": [
  {
   "cell_type": "code",
   "execution_count": 1,
   "metadata": {},
   "outputs": [],
   "source": [
    "import pickle\n",
    "import numpy as np\n",
    "\n",
    "toppings_predictor = pickle.load(open('toppings_predictor.pkl', 'rb'))\n",
    "\n",
    "model = toppings_predictor['model']\n",
    "scoops_ohe = toppings_predictor['scoops_ohe']\n",
    "toppings_mlb = toppings_predictor['toppings_mlb']\n",
    "cone_ohe = toppings_predictor['cone_ohe']\n",
    "icecream_ohe = toppings_predictor['icecream_ohe']\n",
    "snack_ohe = toppings_predictor['snack_ohe']\n"
   ]
  },
  {
   "cell_type": "code",
   "execution_count": 2,
   "metadata": {},
   "outputs": [],
   "source": [
    "def get_int_between(low, high):\n",
    "    while True:\n",
    "        selection = input(\": \")\n",
    "        try:\n",
    "            selection = int(selection)\n",
    "        except ValueError:\n",
    "            continue\n",
    "        if selection < low or selection > high:\n",
    "            continue\n",
    "        return selection\n",
    "\n",
    "\n",
    "def ask(question, options):\n",
    "    print(question)\n",
    "    print(f'Please select one of the following:')\n",
    "    for i, opt in enumerate(options):\n",
    "        n = i+1\n",
    "        print(f'({n}) {opt}')\n",
    "\n",
    "    selection = get_int_between(1, len(options))-1\n",
    "    return options[selection]"
   ]
  },
  {
   "cell_type": "code",
   "execution_count": 3,
   "metadata": {},
   "outputs": [
    {
     "output_type": "stream",
     "name": "stdout",
     "text": [
      "Please enter your age (between 0 and 100)\n",
      "What is your gender?\n",
      "Please select one of the following:\n",
      "(1) Male\n",
      "(2) Female\n",
      "How would you best describe your snack preferences?\n",
      "Please select one of the following:\n",
      "(1) salty\n",
      "(2) savory\n",
      "(3) sweet\n",
      "Of the following options, which is your favorite ice cream flavor?\n",
      "Please select one of the following:\n",
      "(1) chocolate\n",
      "(2) cookie dough\n",
      "(3) cookies and cream\n",
      "(4) mint\n",
      "(5) salted caramel or butterscotch\n",
      "(6) sherbet (any flavor)\n",
      "(7) strawberry\n",
      "(8) vanilla\n",
      "Which cup or cone/bowl?\n",
      "Please select one of the following:\n",
      "(1) cake cone/bowl\n",
      "(2) just a cup, please. No cone/bowl.\n",
      "(3) sugar cone/bowl\n",
      "(4) waffle cone/bowl\n",
      "How many scoops?\n",
      "Please select one of the following:\n",
      "(1) 1\n",
      "(2) 2\n",
      "(3) 3\n"
     ]
    }
   ],
   "source": [
    "print(\"Please enter your age (between 0 and 100)\")\n",
    "age = get_int_between(0, 100)\n",
    "gender_s = ask(\"What is your gender?\", [\"Male\", \"Female\"])\n",
    "snack_s = ask(\"How would you best describe your snack preferences?\", snack_ohe.categories_[0])\n",
    "icecream_s = ask(\"Of the following options, which is your favorite ice cream flavor?\", icecream_ohe.categories_[0])\n",
    "cone_s = ask(\"Which cup or cone/bowl?\", cone_ohe.categories_[0])\n",
    "scoops = ask(\"How many scoops?\", scoops_ohe.categories_[0])\n"
   ]
  },
  {
   "cell_type": "code",
   "execution_count": 4,
   "metadata": {},
   "outputs": [],
   "source": [
    "# convert to numbers\n",
    "ismale = np.array([float(gender_s == 'Male')])\n",
    "age = np.array([age])\n",
    "snack = snack_ohe.transform([[snack_s]])[0]\n",
    "icecream = icecream_ohe.transform([[icecream_s]])[0]\n",
    "cone = cone_ohe.transform([[cone_s]])[0]\n",
    "scoops = scoops_ohe.transform([[scoops]])[0]"
   ]
  },
  {
   "cell_type": "code",
   "execution_count": 5,
   "metadata": {},
   "outputs": [],
   "source": [
    "# predict\n",
    "x_test = np.concatenate([ismale, age, snack, icecream, cone, scoops], axis=0)\n",
    "\n",
    "y_pred_prob = np.array(model.predict_proba([x_test])).squeeze()[:, 1]\n",
    "y_pred = y_pred_prob > 0.25\n",
    "topping_names = toppings_mlb.classes_[y_pred]\n",
    "topping_proba = y_pred_prob[y_pred]\n"
   ]
  },
  {
   "cell_type": "code",
   "execution_count": 6,
   "metadata": {},
   "outputs": [
    {
     "output_type": "stream",
     "name": "stdout",
     "text": [
      "You should try the following toppings (in order):\n1. M&Ms (or other chocolate candies) (71.0%)\n2. sprinkles (66.0%)\n3. whipped cream (65.0%)\n4. hot fudge (51.0%)\n5. gummies (41.0%)\n6. cherry on top (31.0%)\n"
     ]
    }
   ],
   "source": [
    "# display\n",
    "print(\"You should try the following toppings (in order):\")\n",
    "for i, (prob, name) in enumerate(sorted(zip(topping_proba, topping_names), reverse=True)):\n",
    "    print(f\"{i+1}. {name} ({round(prob*100)}%)\")\n"
   ]
  }
 ]
}